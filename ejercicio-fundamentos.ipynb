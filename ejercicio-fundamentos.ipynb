{
 "cells": [
  {
   "cell_type": "code",
   "execution_count": 3,
   "id": "d7d54abb-8b81-4bc0-9d7c-248e61e31e50",
   "metadata": {},
   "outputs": [
    {
     "name": "stdin",
     "output_type": "stream",
     "text": [
      "Ingresa un numero entero:  34\n",
      "Ingresa un numero float:  34.56\n",
      "Ingresa una cadena:  hola\n"
     ]
    },
    {
     "name": "stdout",
     "output_type": "stream",
     "text": [
      "34\n",
      "<class 'int'>\n",
      "34.56\n",
      "<class 'float'>\n",
      "hola\n",
      "<class 'str'>\n"
     ]
    }
   ],
   "source": [
    "integer = eval(input(\"Ingresa un numero entero: \"))\n",
    "float = eval(input(\"Ingresa un numero float: \"))\n",
    "string = input(\"Ingresa una cadena: \")\n",
    "print (integer)\n",
    "print(type(integer))\n",
    "print (float)\n",
    "print(type(float))\n",
    "print (string)\n",
    "print(type(string))"
   ]
  },
  {
   "cell_type": "code",
   "execution_count": null,
   "id": "2fdf79a1-598e-484c-adc0-420ea4d798b6",
   "metadata": {},
   "outputs": [],
   "source": []
  }
 ],
 "metadata": {
  "kernelspec": {
   "display_name": "Python 3 (ipykernel)",
   "language": "python",
   "name": "python3"
  },
  "language_info": {
   "codemirror_mode": {
    "name": "ipython",
    "version": 3
   },
   "file_extension": ".py",
   "mimetype": "text/x-python",
   "name": "python",
   "nbconvert_exporter": "python",
   "pygments_lexer": "ipython3",
   "version": "3.11.7"
  }
 },
 "nbformat": 4,
 "nbformat_minor": 5
}
