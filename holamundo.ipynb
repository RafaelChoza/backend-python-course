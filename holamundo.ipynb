{
 "cells": [
  {
   "cell_type": "markdown",
   "id": "aef5512b-d7cb-46b7-99ad-2e894aebc1a5",
   "metadata": {},
   "source": [
    "print(\"Hola Mundo\")"
   ]
  },
  {
   "cell_type": "code",
   "execution_count": 2,
   "id": "89d08846-9afe-4ada-a8e4-5961ffe58cd3",
   "metadata": {},
   "outputs": [
    {
     "name": "stdout",
     "output_type": "stream",
     "text": [
      "Hello World\n"
     ]
    }
   ],
   "source": [
    "print(\"Hello World\")"
   ]
  },
  {
   "cell_type": "code",
   "execution_count": 3,
   "id": "3cc44a16-c7b7-4031-b1a8-ddce2665137d",
   "metadata": {},
   "outputs": [
    {
     "name": "stdout",
     "output_type": "stream",
     "text": [
      "Hola me llamo Rafael Choza\n"
     ]
    }
   ],
   "source": [
    "print(\"Hola me llamo Rafael Choza\")"
   ]
  },
  {
   "cell_type": "markdown",
   "id": "a7dfd8b6-f1f9-408f-94be-742996cee656",
   "metadata": {},
   "source": [
    "## Function Eval()"
   ]
  },
  {
   "cell_type": "code",
   "execution_count": 4,
   "id": "6feb32ab-2019-44bd-8726-53410bb5deaf",
   "metadata": {},
   "outputs": [],
   "source": [
    "my_number=22"
   ]
  },
  {
   "cell_type": "code",
   "execution_count": 5,
   "id": "a555701e-c672-4dd8-b27b-f0c5e0336da0",
   "metadata": {},
   "outputs": [
    {
     "name": "stdout",
     "output_type": "stream",
     "text": [
      "my_number+1000\n"
     ]
    }
   ],
   "source": [
    "print(\"my_number+1000\")"
   ]
  },
  {
   "cell_type": "code",
   "execution_count": 6,
   "id": "01d5654a-c94d-480f-b3b4-c6e2ee0967ae",
   "metadata": {},
   "outputs": [
    {
     "name": "stdout",
     "output_type": "stream",
     "text": [
      "1022\n"
     ]
    }
   ],
   "source": [
    "my_number=22\n",
    "print(eval(\"my_number+1000\"))"
   ]
  },
  {
   "cell_type": "code",
   "execution_count": 7,
   "id": "7121ee60-fb3f-4782-b6ab-274ca6f81b53",
   "metadata": {},
   "outputs": [
    {
     "name": "stdin",
     "output_type": "stream",
     "text": [
      "Ingresa un numero 123\n"
     ]
    }
   ],
   "source": [
    "my_imput=input(\"Ingresa un numero\")"
   ]
  },
  {
   "cell_type": "code",
   "execution_count": 9,
   "id": "4bd28ed8-4b2d-42a4-8754-53cff0a054a2",
   "metadata": {},
   "outputs": [
    {
     "data": {
      "text/plain": [
       "'123'"
      ]
     },
     "execution_count": 9,
     "metadata": {},
     "output_type": "execute_result"
    }
   ],
   "source": [
    "my_imput"
   ]
  },
  {
   "cell_type": "code",
   "execution_count": 11,
   "id": "18e9f4c6-fcd4-407f-9037-1ab64fd12d34",
   "metadata": {},
   "outputs": [
    {
     "data": {
      "text/plain": [
       "123"
      ]
     },
     "execution_count": 11,
     "metadata": {},
     "output_type": "execute_result"
    }
   ],
   "source": [
    "eval(my_imput)"
   ]
  },
  {
   "cell_type": "code",
   "execution_count": 12,
   "id": "150201c0-b729-4e99-aad8-8b6583d70de5",
   "metadata": {},
   "outputs": [
    {
     "name": "stdin",
     "output_type": "stream",
     "text": [
      "Ingrese un numero:  123\n"
     ]
    },
    {
     "name": "stdout",
     "output_type": "stream",
     "text": [
      "123\n",
      "<class 'str'>\n"
     ]
    }
   ],
   "source": [
    "my_input=input(\"Ingrese un numero: \")\n",
    "print(my_input)\n",
    "print(type(my_input))\n",
    "##Cadena/String"
   ]
  },
  {
   "cell_type": "markdown",
   "id": "02db83c2-17af-49e7-be50-4519fe76a4b8",
   "metadata": {},
   "source": [
    "my_input=eval(input(\"Ingrese un numero: \"))\n",
    "print(my_input)\n",
    "print(type(my_input))\n",
    "##Entero/Int"
   ]
  },
  {
   "cell_type": "markdown",
   "id": "fafcddf4-df58-405d-a51c-da6000fc79c3",
   "metadata": {},
   "source": [
    "## Funcion range() y xrange()"
   ]
  },
  {
   "cell_type": "markdown",
   "id": "2a13050a-693e-4ccd-a5d2-8e2c217beaa7",
   "metadata": {},
   "source": [
    "##range (start, stop, step)"
   ]
  },
  {
   "cell_type": "code",
   "execution_count": 14,
   "id": "e22634b5-9ecd-46d0-8c94-319d3ed44b8c",
   "metadata": {},
   "outputs": [],
   "source": [
    "x = range(10)"
   ]
  },
  {
   "cell_type": "code",
   "execution_count": 15,
   "id": "ed23b24b-6f98-4823-b59a-a1292d4accd6",
   "metadata": {},
   "outputs": [
    {
     "data": {
      "text/plain": [
       "range(0, 10)"
      ]
     },
     "execution_count": 15,
     "metadata": {},
     "output_type": "execute_result"
    }
   ],
   "source": [
    "x"
   ]
  },
  {
   "cell_type": "code",
   "execution_count": 20,
   "id": "c84e1a74-971d-4d6b-b1a4-6bbb8ad928d5",
   "metadata": {},
   "outputs": [
    {
     "name": "stdout",
     "output_type": "stream",
     "text": [
      "0\n",
      "1\n",
      "2\n",
      "3\n",
      "4\n",
      "5\n",
      "6\n",
      "7\n",
      "8\n",
      "9\n"
     ]
    }
   ],
   "source": [
    "for number in x:\n",
    "    print (number)"
   ]
  },
  {
   "cell_type": "code",
   "execution_count": 22,
   "id": "88d3ee3d-f1e8-4e16-bf50-5a17c82e1f43",
   "metadata": {},
   "outputs": [
    {
     "name": "stdout",
     "output_type": "stream",
     "text": [
      "3\n",
      "4\n",
      "5\n"
     ]
    }
   ],
   "source": [
    "x = range(3,6)\n",
    "for number in x:\n",
    "    print (number)"
   ]
  },
  {
   "cell_type": "code",
   "execution_count": 23,
   "id": "35ce09ff-9f64-4bd6-87fb-2da3fe4e0108",
   "metadata": {},
   "outputs": [
    {
     "name": "stdout",
     "output_type": "stream",
     "text": [
      "3\n",
      "5\n",
      "7\n",
      "9\n",
      "11\n",
      "13\n",
      "15\n",
      "17\n",
      "19\n"
     ]
    }
   ],
   "source": [
    "x = range (3,20,2)\n",
    "for number in x:\n",
    "    print (number)"
   ]
  },
  {
   "cell_type": "markdown",
   "id": "78e202c0-c763-4ca8-b5d8-14069ca3def7",
   "metadata": {},
   "source": [
    "## Mutabilidad e Inmutabilidad"
   ]
  },
  {
   "cell_type": "code",
   "execution_count": 24,
   "id": "817751e6-efeb-42af-9245-1e981ced41ba",
   "metadata": {},
   "outputs": [],
   "source": [
    "tuple1 = (1,2,3,4,5)"
   ]
  },
  {
   "cell_type": "code",
   "execution_count": 25,
   "id": "76c893d5-fced-4ca1-b4b6-9c808d387dbc",
   "metadata": {},
   "outputs": [
    {
     "data": {
      "text/plain": [
       "(1, 2, 3, 4, 5)"
      ]
     },
     "execution_count": 25,
     "metadata": {},
     "output_type": "execute_result"
    }
   ],
   "source": [
    "tuple1"
   ]
  },
  {
   "cell_type": "markdown",
   "id": "8feda797-110c-4492-b751-acc315123659",
   "metadata": {},
   "source": [
    "## Inmutabilidad"
   ]
  },
  {
   "cell_type": "code",
   "execution_count": 26,
   "id": "57b16fbf-fddf-4244-b45b-388846cece43",
   "metadata": {},
   "outputs": [
    {
     "ename": "TypeError",
     "evalue": "'tuple' object does not support item assignment",
     "output_type": "error",
     "traceback": [
      "\u001b[0;31m---------------------------------------------------------------------------\u001b[0m",
      "\u001b[0;31mTypeError\u001b[0m                                 Traceback (most recent call last)",
      "Cell \u001b[0;32mIn[26], line 1\u001b[0m\n\u001b[0;32m----> 1\u001b[0m tuple1[\u001b[38;5;241m0\u001b[39m] \u001b[38;5;241m=\u001b[39m \u001b[38;5;241m10\u001b[39m\n",
      "\u001b[0;31mTypeError\u001b[0m: 'tuple' object does not support item assignment"
     ]
    }
   ],
   "source": [
    "tuple1[0] = 10"
   ]
  },
  {
   "cell_type": "code",
   "execution_count": 27,
   "id": "dfc2d57a-eaf3-4b89-a684-aac85ae3aa4a",
   "metadata": {},
   "outputs": [],
   "source": [
    "my_string = \"Aprendiendo sobre inmutabilidad\""
   ]
  },
  {
   "cell_type": "code",
   "execution_count": 28,
   "id": "1d4ddbf3-2092-4329-9e7d-b71d3f3948b4",
   "metadata": {},
   "outputs": [
    {
     "data": {
      "text/plain": [
       "'Aprendiendo sobre inmutabilidad'"
      ]
     },
     "execution_count": 28,
     "metadata": {},
     "output_type": "execute_result"
    }
   ],
   "source": [
    "my_string"
   ]
  },
  {
   "cell_type": "code",
   "execution_count": 29,
   "id": "77405452-11c2-436d-b06b-6109e6d14b98",
   "metadata": {},
   "outputs": [
    {
     "ename": "TypeError",
     "evalue": "'str' object does not support item assignment",
     "output_type": "error",
     "traceback": [
      "\u001b[0;31m---------------------------------------------------------------------------\u001b[0m",
      "\u001b[0;31mTypeError\u001b[0m                                 Traceback (most recent call last)",
      "Cell \u001b[0;32mIn[29], line 1\u001b[0m\n\u001b[0;32m----> 1\u001b[0m my_string[\u001b[38;5;241m0\u001b[39m] \u001b[38;5;241m=\u001b[39m \u001b[38;5;124m\"\u001b[39m\u001b[38;5;124ma\u001b[39m\u001b[38;5;124m\"\u001b[39m\n",
      "\u001b[0;31mTypeError\u001b[0m: 'str' object does not support item assignment"
     ]
    }
   ],
   "source": [
    "my_string[0] = \"a\""
   ]
  },
  {
   "cell_type": "code",
   "execution_count": 32,
   "id": "1909a643-df2d-4e9c-b420-469dd612e3d7",
   "metadata": {},
   "outputs": [],
   "source": [
    "color = [\"rojo\", \"azul\", \"negro\", \"verde\"]"
   ]
  },
  {
   "cell_type": "code",
   "execution_count": 33,
   "id": "4306fcf9-03d5-4921-86b3-2c0bb233fa1e",
   "metadata": {},
   "outputs": [
    {
     "data": {
      "text/plain": [
       "['rojo', 'azul', 'negro', 'verde']"
      ]
     },
     "execution_count": 33,
     "metadata": {},
     "output_type": "execute_result"
    }
   ],
   "source": [
    "color"
   ]
  },
  {
   "cell_type": "code",
   "execution_count": 34,
   "id": "71709f49-4dd2-4d25-855f-47c053a85db3",
   "metadata": {},
   "outputs": [],
   "source": [
    "color[0] = \"blanco\""
   ]
  },
  {
   "cell_type": "code",
   "execution_count": 35,
   "id": "10809ea7-b212-493a-8fae-9554d1a19848",
   "metadata": {},
   "outputs": [
    {
     "data": {
      "text/plain": [
       "['blanco', 'azul', 'negro', 'verde']"
      ]
     },
     "execution_count": 35,
     "metadata": {},
     "output_type": "execute_result"
    }
   ],
   "source": [
    "color"
   ]
  },
  {
   "cell_type": "markdown",
   "id": "d875ff58-74a8-4021-8139-b256c3b9d7a5",
   "metadata": {},
   "source": [
    "## Funcion print()"
   ]
  },
  {
   "cell_type": "code",
   "execution_count": 36,
   "id": "dae37938-f5ca-459c-b13a-d1995ce57295",
   "metadata": {},
   "outputs": [],
   "source": [
    "# Mostrar un resultado"
   ]
  },
  {
   "cell_type": "code",
   "execution_count": 37,
   "id": "68a4353b-620c-4cf2-94bc-857bb1a9e956",
   "metadata": {},
   "outputs": [],
   "source": [
    "my_variable = 345"
   ]
  },
  {
   "cell_type": "code",
   "execution_count": 38,
   "id": "c6f12fdf-e808-49ce-8b46-569063617674",
   "metadata": {},
   "outputs": [
    {
     "name": "stdout",
     "output_type": "stream",
     "text": [
      "El valor de my_variable es:  345\n"
     ]
    }
   ],
   "source": [
    "print (\"El valor de my_variable es: \", my_variable)"
   ]
  },
  {
   "cell_type": "code",
   "execution_count": 39,
   "id": "ca5fb2d2-9d9e-4600-a4c4-d0777d6932a5",
   "metadata": {},
   "outputs": [
    {
     "name": "stdout",
     "output_type": "stream",
     "text": [
      "El valor de d es:  900\n"
     ]
    }
   ],
   "source": [
    "a=100\n",
    "b=300\n",
    "c=500\n",
    "d=a+b+c\n",
    "print (\"El valor de d es: \", d)"
   ]
  },
  {
   "cell_type": "code",
   "execution_count": 40,
   "id": "d566044a-fa90-40a0-930d-29c20170d4f3",
   "metadata": {},
   "outputs": [],
   "source": [
    "import builtins"
   ]
  },
  {
   "cell_type": "code",
   "execution_count": 41,
   "id": "ede7c4d8-20c8-411e-bf09-a188ecb684d6",
   "metadata": {},
   "outputs": [
    {
     "name": "stdout",
     "output_type": "stream",
     "text": [
      "Help on built-in function print in module builtins:\n",
      "\n",
      "print(*args, sep=' ', end='\\n', file=None, flush=False)\n",
      "    Prints the values to a stream, or to sys.stdout by default.\n",
      "    \n",
      "    sep\n",
      "      string inserted between values, default a space.\n",
      "    end\n",
      "      string appended after the last value, default a newline.\n",
      "    file\n",
      "      a file-like object (stream); defaults to the current sys.stdout.\n",
      "    flush\n",
      "      whether to forcibly flush the stream.\n",
      "\n"
     ]
    }
   ],
   "source": [
    "help(builtins.print)"
   ]
  },
  {
   "cell_type": "code",
   "execution_count": 42,
   "id": "2effcf54-ae33-4251-9162-5e2a279fd16c",
   "metadata": {},
   "outputs": [
    {
     "name": "stdout",
     "output_type": "stream",
     "text": [
      "Help on built-in function print in module builtins:\n",
      "\n",
      "print(*args, sep=' ', end='\\n', file=None, flush=False)\n",
      "    Prints the values to a stream, or to sys.stdout by default.\n",
      "    \n",
      "    sep\n",
      "      string inserted between values, default a space.\n",
      "    end\n",
      "      string appended after the last value, default a newline.\n",
      "    file\n",
      "      a file-like object (stream); defaults to the current sys.stdout.\n",
      "    flush\n",
      "      whether to forcibly flush the stream.\n",
      "\n"
     ]
    }
   ],
   "source": [
    "help(print)"
   ]
  },
  {
   "cell_type": "code",
   "execution_count": 44,
   "id": "987bbc07-d770-4153-a8fe-e3b437d11d79",
   "metadata": {},
   "outputs": [
    {
     "data": {
      "text/plain": [
       "['ArithmeticError',\n",
       " 'AssertionError',\n",
       " 'AttributeError',\n",
       " 'BaseException',\n",
       " 'BaseExceptionGroup',\n",
       " 'BlockingIOError',\n",
       " 'BrokenPipeError',\n",
       " 'BufferError',\n",
       " 'BytesWarning',\n",
       " 'ChildProcessError',\n",
       " 'ConnectionAbortedError',\n",
       " 'ConnectionError',\n",
       " 'ConnectionRefusedError',\n",
       " 'ConnectionResetError',\n",
       " 'DeprecationWarning',\n",
       " 'EOFError',\n",
       " 'Ellipsis',\n",
       " 'EncodingWarning',\n",
       " 'EnvironmentError',\n",
       " 'Exception',\n",
       " 'ExceptionGroup',\n",
       " 'False',\n",
       " 'FileExistsError',\n",
       " 'FileNotFoundError',\n",
       " 'FloatingPointError',\n",
       " 'FutureWarning',\n",
       " 'GeneratorExit',\n",
       " 'IOError',\n",
       " 'ImportError',\n",
       " 'ImportWarning',\n",
       " 'IndentationError',\n",
       " 'IndexError',\n",
       " 'InterruptedError',\n",
       " 'IsADirectoryError',\n",
       " 'KeyError',\n",
       " 'KeyboardInterrupt',\n",
       " 'LookupError',\n",
       " 'MemoryError',\n",
       " 'ModuleNotFoundError',\n",
       " 'NameError',\n",
       " 'None',\n",
       " 'NotADirectoryError',\n",
       " 'NotImplemented',\n",
       " 'NotImplementedError',\n",
       " 'OSError',\n",
       " 'OverflowError',\n",
       " 'PendingDeprecationWarning',\n",
       " 'PermissionError',\n",
       " 'ProcessLookupError',\n",
       " 'RecursionError',\n",
       " 'ReferenceError',\n",
       " 'ResourceWarning',\n",
       " 'RuntimeError',\n",
       " 'RuntimeWarning',\n",
       " 'StopAsyncIteration',\n",
       " 'StopIteration',\n",
       " 'SyntaxError',\n",
       " 'SyntaxWarning',\n",
       " 'SystemError',\n",
       " 'SystemExit',\n",
       " 'TabError',\n",
       " 'TimeoutError',\n",
       " 'True',\n",
       " 'TypeError',\n",
       " 'UnboundLocalError',\n",
       " 'UnicodeDecodeError',\n",
       " 'UnicodeEncodeError',\n",
       " 'UnicodeError',\n",
       " 'UnicodeTranslateError',\n",
       " 'UnicodeWarning',\n",
       " 'UserWarning',\n",
       " 'ValueError',\n",
       " 'Warning',\n",
       " 'ZeroDivisionError',\n",
       " '__IPYTHON__',\n",
       " '__build_class__',\n",
       " '__debug__',\n",
       " '__doc__',\n",
       " '__import__',\n",
       " '__loader__',\n",
       " '__name__',\n",
       " '__package__',\n",
       " '__spec__',\n",
       " 'abs',\n",
       " 'aiter',\n",
       " 'all',\n",
       " 'anext',\n",
       " 'any',\n",
       " 'ascii',\n",
       " 'bin',\n",
       " 'bool',\n",
       " 'breakpoint',\n",
       " 'bytearray',\n",
       " 'bytes',\n",
       " 'callable',\n",
       " 'chr',\n",
       " 'classmethod',\n",
       " 'compile',\n",
       " 'complex',\n",
       " 'copyright',\n",
       " 'credits',\n",
       " 'delattr',\n",
       " 'dict',\n",
       " 'dir',\n",
       " 'display',\n",
       " 'divmod',\n",
       " 'enumerate',\n",
       " 'eval',\n",
       " 'exec',\n",
       " 'execfile',\n",
       " 'filter',\n",
       " 'float',\n",
       " 'format',\n",
       " 'frozenset',\n",
       " 'get_ipython',\n",
       " 'getattr',\n",
       " 'globals',\n",
       " 'hasattr',\n",
       " 'hash',\n",
       " 'help',\n",
       " 'hex',\n",
       " 'id',\n",
       " 'input',\n",
       " 'int',\n",
       " 'isinstance',\n",
       " 'issubclass',\n",
       " 'iter',\n",
       " 'len',\n",
       " 'license',\n",
       " 'list',\n",
       " 'locals',\n",
       " 'map',\n",
       " 'max',\n",
       " 'memoryview',\n",
       " 'min',\n",
       " 'next',\n",
       " 'object',\n",
       " 'oct',\n",
       " 'open',\n",
       " 'ord',\n",
       " 'pow',\n",
       " 'print',\n",
       " 'property',\n",
       " 'range',\n",
       " 'repr',\n",
       " 'reversed',\n",
       " 'round',\n",
       " 'runfile',\n",
       " 'set',\n",
       " 'setattr',\n",
       " 'slice',\n",
       " 'sorted',\n",
       " 'staticmethod',\n",
       " 'str',\n",
       " 'sum',\n",
       " 'super',\n",
       " 'tuple',\n",
       " 'type',\n",
       " 'vars',\n",
       " 'zip']"
      ]
     },
     "execution_count": 44,
     "metadata": {},
     "output_type": "execute_result"
    }
   ],
   "source": [
    "dir(builtins)"
   ]
  },
  {
   "cell_type": "markdown",
   "id": "8d32916b-5018-45e6-bd1b-19fc5888aefa",
   "metadata": {},
   "source": [
    "# Funcion type()"
   ]
  },
  {
   "cell_type": "code",
   "execution_count": 45,
   "id": "01615f9f-8330-4fc5-a952-31b508a443df",
   "metadata": {},
   "outputs": [
    {
     "name": "stdout",
     "output_type": "stream",
     "text": [
      "570\n"
     ]
    }
   ],
   "source": [
    "my_number = 570\n",
    "print (my_number)"
   ]
  },
  {
   "cell_type": "code",
   "execution_count": 47,
   "id": "ed39dbb6-096b-4ce3-9435-907880a10b0f",
   "metadata": {},
   "outputs": [
    {
     "name": "stdout",
     "output_type": "stream",
     "text": [
      "570\n",
      "<class 'int'>\n"
     ]
    }
   ],
   "source": [
    "#Entero / Int\n",
    "my_number = 570\n",
    "print (my_number)\n",
    "print (type(my_number))"
   ]
  },
  {
   "cell_type": "code",
   "execution_count": 48,
   "id": "4b873a1a-a96b-466f-ad8c-5cbe6801cd44",
   "metadata": {},
   "outputs": [
    {
     "name": "stdout",
     "output_type": "stream",
     "text": [
      "Backend Python\n",
      "<class 'str'>\n"
     ]
    }
   ],
   "source": [
    "my_string = \"Backend Python\"\n",
    "print (my_string)\n",
    "print (type(my_string))"
   ]
  },
  {
   "cell_type": "code",
   "execution_count": 48,
   "id": "20352a65-739e-4ff4-94c3-af76d22cc337",
   "metadata": {},
   "outputs": [
    {
     "name": "stdout",
     "output_type": "stream",
     "text": [
      "Backend Python\n",
      "<class 'str'>\n"
     ]
    }
   ],
   "source": [
    "my_string = \"Backend Python\"\n",
    "print (my_string)\n",
    "print (type(my_string))"
   ]
  },
  {
   "cell_type": "code",
   "execution_count": 2,
   "id": "8d02ff01-f9f4-47f0-b38d-5c2c818145d8",
   "metadata": {},
   "outputs": [
    {
     "name": "stdout",
     "output_type": "stream",
     "text": [
      "3.97\n",
      "<class 'float'>\n"
     ]
    }
   ],
   "source": [
    "# Flotantes / Float\n",
    "my_float = 3.97\n",
    "print (my_float)\n",
    "print (type(my_float))"
   ]
  },
  {
   "cell_type": "code",
   "execution_count": 3,
   "id": "839468f2-51f7-412f-864d-80addc1528f6",
   "metadata": {},
   "outputs": [
    {
     "name": "stdout",
     "output_type": "stream",
     "text": [
      "True\n",
      "<class 'bool'>\n"
     ]
    }
   ],
   "source": [
    "# Boolean\n",
    "my_boolean = True\n",
    "print (my_boolean)\n",
    "print (type(my_boolean))"
   ]
  },
  {
   "cell_type": "code",
   "execution_count": 4,
   "id": "2b30365d-82c4-4e14-b4c8-afeb79fb7a9c",
   "metadata": {},
   "outputs": [
    {
     "name": "stdout",
     "output_type": "stream",
     "text": [
      "False\n",
      "<class 'str'>\n"
     ]
    }
   ],
   "source": [
    "# Cadena / String\n",
    "my_string = \"False\"\n",
    "print (my_string)\n",
    "print (type(my_string))"
   ]
  },
  {
   "cell_type": "code",
   "execution_count": 5,
   "id": "4efddedb-9434-4789-ac33-7991dd76ccb4",
   "metadata": {},
   "outputs": [
    {
     "name": "stdout",
     "output_type": "stream",
     "text": [
      "[1, 2, 3, 4, 5]\n",
      "<class 'list'>\n"
     ]
    }
   ],
   "source": [
    "# Lista / List\n",
    "my_list = [1,2,3,4,5]\n",
    "print (my_list)\n",
    "print (type(my_list))"
   ]
  },
  {
   "cell_type": "code",
   "execution_count": 6,
   "id": "74a64a03-1995-4553-b586-dd9076a5e763",
   "metadata": {},
   "outputs": [
    {
     "name": "stdout",
     "output_type": "stream",
     "text": [
      "(3, 4, 5, 6, 7)\n",
      "<class 'tuple'>\n"
     ]
    }
   ],
   "source": [
    "# Tupla / Tuple\n",
    "my_tuple = (3,4,5,6,7)\n",
    "print (my_tuple)\n",
    "print (type(my_tuple))"
   ]
  },
  {
   "cell_type": "code",
   "execution_count": 7,
   "id": "d1ebd493-1bd9-44fb-bc88-ffb2ae9e8a58",
   "metadata": {},
   "outputs": [
    {
     "name": "stdout",
     "output_type": "stream",
     "text": [
      "{1, 3.2, 'carro'}\n",
      "<class 'set'>\n"
     ]
    }
   ],
   "source": [
    "# Set\n",
    "my_set = {1, \"carro\", 3.2}\n",
    "print (my_set)\n",
    "print (type(my_set))"
   ]
  },
  {
   "cell_type": "code",
   "execution_count": 9,
   "id": "44afc526-db0c-41ed-9785-ae858756dcb1",
   "metadata": {},
   "outputs": [
    {
     "name": "stdout",
     "output_type": "stream",
     "text": [
      "{'a': 3, 'b': 4, 'c': 10}\n",
      "<class 'dict'>\n"
     ]
    }
   ],
   "source": [
    "# Diccionario / dict\n",
    "my_dictionary = {\"a\":3, \"b\":4, \"c\":10}\n",
    "print (my_dictionary)\n",
    "print (type(my_dictionary))"
   ]
  },
  {
   "cell_type": "markdown",
   "id": "03c5c7b9-c2c5-4020-89ce-b9b4ef2252be",
   "metadata": {},
   "source": [
    "## Funcion id()"
   ]
  },
  {
   "cell_type": "markdown",
   "id": "95518270-d895-466b-9e97-1de08fa25c01",
   "metadata": {},
   "source": [
    "### id() funcion para obtener la direccion de memoria "
   ]
  },
  {
   "cell_type": "code",
   "execution_count": 10,
   "id": "d5e8b80c-4153-41d4-aff8-ad45ec08f53b",
   "metadata": {},
   "outputs": [
    {
     "name": "stdout",
     "output_type": "stream",
     "text": [
      "Backend Python\n",
      "<class 'str'>\n",
      "4375846384\n"
     ]
    }
   ],
   "source": [
    "my_string = \"Backend Python\"\n",
    "print (my_string)\n",
    "print (type(my_string))\n",
    "print (id(my_string))"
   ]
  },
  {
   "cell_type": "code",
   "execution_count": 11,
   "id": "26097ef0-eed2-44b1-a83f-b00442c39ce2",
   "metadata": {},
   "outputs": [
    {
     "name": "stdout",
     "output_type": "stream",
     "text": [
      "Backend\n",
      "<class 'str'>\n",
      "4375871856\n"
     ]
    }
   ],
   "source": [
    "my_string2 = \"Backend\"\n",
    "print (my_string2)\n",
    "print (type(my_string2))\n",
    "print (id(my_string2))"
   ]
  },
  {
   "cell_type": "code",
   "execution_count": 12,
   "id": "0f4fb49d-f6fc-40dd-aec5-e17caf534ce4",
   "metadata": {},
   "outputs": [
    {
     "name": "stdout",
     "output_type": "stream",
     "text": [
      "Backend Python\n",
      "Backend Python\n",
      "<class 'str'>\n",
      "<class 'str'>\n",
      "4375875440\n",
      "4375876016\n"
     ]
    }
   ],
   "source": [
    "my_string = \"Backend Python\"\n",
    "my_string3 = \"Backend Python\"\n",
    "print (my_string)\n",
    "print (my_string3)\n",
    "print (type(my_string))\n",
    "print (type(my_string3))\n",
    "print (id(my_string))\n",
    "print (id(my_string3))"
   ]
  },
  {
   "cell_type": "markdown",
   "id": "319d4f87-202b-42c4-9c33-b72383096caa",
   "metadata": {},
   "source": [
    "# Multiples valores de entrada"
   ]
  },
  {
   "cell_type": "code",
   "execution_count": 13,
   "id": "363a3751-0366-40e3-ab77-ccca993337f6",
   "metadata": {},
   "outputs": [
    {
     "name": "stdout",
     "output_type": "stream",
     "text": [
      "El valr de my_number es:  567\n"
     ]
    }
   ],
   "source": [
    "my_number = 567\n",
    "print (\"El valr de my_number es: \", my_number)"
   ]
  },
  {
   "cell_type": "code",
   "execution_count": 15,
   "id": "b19808d9-34db-44fd-8ce5-081cc204f50c",
   "metadata": {},
   "outputs": [
    {
     "name": "stdin",
     "output_type": "stream",
     "text": [
      "Ingresa los 3 valores:  100 200 300\n"
     ]
    },
    {
     "name": "stdout",
     "output_type": "stream",
     "text": [
      "El valor de a es:  100\n",
      "El valor de b es:  200\n",
      "El valor de c es:  300\n"
     ]
    }
   ],
   "source": [
    "a,b,c = input (\"Ingresa los 3 valores: \").split()\n",
    "print (\"El valor de a es: \", a)\n",
    "print (\"El valor de b es: \", b)\n",
    "print (\"El valor de c es: \", c)"
   ]
  },
  {
   "cell_type": "code",
   "execution_count": 16,
   "id": "b7ecdf60-83fa-4f66-a8e4-3331d0c29109",
   "metadata": {},
   "outputs": [
    {
     "name": "stdin",
     "output_type": "stream",
     "text": [
      "Ingresa los 3 valores separados por coma:  100,200,300\n"
     ]
    },
    {
     "name": "stdout",
     "output_type": "stream",
     "text": [
      "El valor de a es:  100\n",
      "El valor de b es:  200\n",
      "El valor de c es:  300\n"
     ]
    }
   ],
   "source": [
    "a,b,c = input (\"Ingresa los 3 valores separados por coma: \").split(\",\")\n",
    "print (\"El valor de a es: \", a)\n",
    "print (\"El valor de b es: \", b)\n",
    "print (\"El valor de c es: \", c)"
   ]
  },
  {
   "cell_type": "code",
   "execution_count": null,
   "id": "5a06429f-e42a-45fd-90f1-7a6d7425d8f5",
   "metadata": {},
   "outputs": [],
   "source": []
  }
 ],
 "metadata": {
  "kernelspec": {
   "display_name": "Python 3 (ipykernel)",
   "language": "python",
   "name": "python3"
  },
  "language_info": {
   "codemirror_mode": {
    "name": "ipython",
    "version": 3
   },
   "file_extension": ".py",
   "mimetype": "text/x-python",
   "name": "python",
   "nbconvert_exporter": "python",
   "pygments_lexer": "ipython3",
   "version": "3.11.7"
  }
 },
 "nbformat": 4,
 "nbformat_minor": 5
}
